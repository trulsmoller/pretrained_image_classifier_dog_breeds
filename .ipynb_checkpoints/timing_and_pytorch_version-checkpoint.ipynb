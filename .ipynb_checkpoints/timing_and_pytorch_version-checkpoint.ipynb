{
 "cells": [
  {
   "cell_type": "code",
   "execution_count": 2,
   "metadata": {},
   "outputs": [
    {
     "name": "stdout",
     "output_type": "stream",
     "text": [
      "1.0.1\n",
      "1.6.0\n"
     ]
    }
   ],
   "source": [
    "import torch\n",
    "import pandas as pd\n",
    "print(pd.__version__)\n",
    "print(torch.__version__)"
   ]
  },
  {
   "cell_type": "code",
   "execution_count": 3,
   "metadata": {},
   "outputs": [],
   "source": [
    "from time import time, sleep"
   ]
  },
  {
   "cell_type": "code",
   "execution_count": 4,
   "metadata": {},
   "outputs": [
    {
     "name": "stdout",
     "output_type": "stream",
     "text": [
      "1.00154\n",
      "\n",
      "Total Elapsed Runtime: 0 hr 0 min 1.00154 s\n"
     ]
    }
   ],
   "source": [
    "start = time()\n",
    "\n",
    "sleep(1)\n",
    "\n",
    "end = time()\n",
    "\n",
    "tot_time = end - start\n",
    "\n",
    "hours = int(tot_time / 3600)\n",
    "mins = int((tot_time % 3600) / 60)\n",
    "secs = round((tot_time % 3600) % 60, 5)\n",
    "\n",
    "print(secs)\n",
    "print(\"\\nTotal Elapsed Runtime: {} hr {} min {} s\".format(hours, mins, secs))"
   ]
  },
  {
   "cell_type": "code",
   "execution_count": 5,
   "metadata": {},
   "outputs": [
    {
     "name": "stdout",
     "output_type": "stream",
     "text": [
      "1.00154\n",
      "\n",
      "Total Elapsed Runtime: 0 hr 0 min 1.00053 s\n"
     ]
    }
   ],
   "source": [
    "start = time()\n",
    "\n",
    "sleep(1)\n",
    "\n",
    "end = time()\n",
    "\n",
    "tot_time = end - start\n",
    "\n",
    "\n",
    "print(secs)\n",
    "print(\"\\nTotal Elapsed Runtime: {} hr {} min {} s\".format(int(tot_time / 3600), \\\n",
    "                                                          int((tot_time % 3600) / 60), \\\n",
    "                                                          round((tot_time % 3600) % 60, 5)))"
   ]
  }
 ],
 "metadata": {
  "kernelspec": {
   "display_name": "Python 3",
   "language": "python",
   "name": "python3"
  },
  "language_info": {
   "codemirror_mode": {
    "name": "ipython",
    "version": 3
   },
   "file_extension": ".py",
   "mimetype": "text/x-python",
   "name": "python",
   "nbconvert_exporter": "python",
   "pygments_lexer": "ipython3",
   "version": "3.7.6"
  }
 },
 "nbformat": 4,
 "nbformat_minor": 4
}
